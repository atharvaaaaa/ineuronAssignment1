{
 "cells": [
  {
   "cell_type": "markdown",
   "id": "8b8e99ab",
   "metadata": {},
   "source": [
    "# 1. In the below elements which of them are values or an expression? eg:- values can be integer or string and expressions will be mathematical operators. \n",
    "*\n",
    "'hello'\n",
    "-87.8\n",
    "-\n",
    "/\n",
    "+\n",
    "6\n",
    "Ans: Values: 'hello', -87.8, 6\n",
    "Expressions: *, -, /, +"
   ]
  },
  {
   "cell_type": "markdown",
   "id": "13b046c5",
   "metadata": {},
   "source": []
  },
  {
   "cell_type": "markdown",
   "id": "c2a834a9",
   "metadata": {},
   "source": [
    "# 2. What is the difference between string and variable\n",
    "Variable is a symbol that is used to store a type of data in a program whereas String is one of the type of data which can be stored in a variable"
   ]
  },
  {
   "cell_type": "markdown",
   "id": "d4bf413c",
   "metadata": {},
   "source": []
  },
  {
   "cell_type": "markdown",
   "id": "a8d14dab",
   "metadata": {},
   "source": [
    "# 3. Describe three different data types.\n",
    "1) int : int is a datatype which is used to store integers\n",
    "2) str : str is a datatype which is used to store strings\n",
    "3) bool : bool is a datatype which is used to store boolean variables (boolean variables return either true or false)"
   ]
  },
  {
   "cell_type": "markdown",
   "id": "9ed1071a",
   "metadata": {},
   "source": []
  },
  {
   "cell_type": "markdown",
   "id": "22dcae02",
   "metadata": {},
   "source": [
    "# 4. What is an expression made up of? What do all expressions do?\n",
    "An expression is made up of operators and operands interpreted to produce some other value, Expressions combines values and operators and evaluates it down to a single value."
   ]
  },
  {
   "cell_type": "markdown",
   "id": "d6401c6b",
   "metadata": {},
   "source": []
  },
  {
   "cell_type": "markdown",
   "id": "083a2641",
   "metadata": {},
   "source": [
    "# 5. This assignment statements, like spam = 10. What is the difference between an expression and a statement?\n",
    "Expressions combines values and operators to return a value whereas statements doesn't return anything"
   ]
  },
  {
   "cell_type": "markdown",
   "id": "eea739a3",
   "metadata": {},
   "source": []
  },
  {
   "cell_type": "markdown",
   "id": "6f348332",
   "metadata": {},
   "source": [
    "# 6. After running the following code, what does the variable bacon contain? \n",
    "bacon = 22\n",
    "bacon + 1\n",
    "\n",
    "Doing Arithmetic expressions doesn't change it's actual value, so the value for bacon would be same that is 22\n"
   ]
  },
  {
   "cell_type": "markdown",
   "id": "36d5be39",
   "metadata": {},
   "source": []
  },
  {
   "cell_type": "markdown",
   "id": "f88cd601",
   "metadata": {},
   "source": [
    "# 7. What should the values of the following two terms be?\n",
    "'spam' + 'spamspam'\n",
    ",'spam' * 3\n",
    "\n",
    "'spam' + 'spamspam' would concatenate two strings and become spamspamspam\n",
    "whereas\n",
    "'spam'*3 \n",
    "will concatenate the string with itself 3 times and become spamspamspam\n",
    "\n"
   ]
  },
  {
   "cell_type": "markdown",
   "id": "e54eff60",
   "metadata": {},
   "source": []
  },
  {
   "cell_type": "markdown",
   "id": "1306cf00",
   "metadata": {},
   "source": [
    "# 8. Why is eggs a valid variable name while 100 is invalid?\n",
    "\n",
    "In python a variable name should not start with a number, should not have whitespace and must start with a letter or underscore character, following this eggs can be a valid variable whereas 100 is an invalid variable"
   ]
  },
  {
   "cell_type": "markdown",
   "id": "64c6f4c5",
   "metadata": {},
   "source": []
  },
  {
   "cell_type": "markdown",
   "id": "44c2c970",
   "metadata": {},
   "source": [
    "# 9. What three functions can be used to get the integer, floating-point number, or string version of a value?\n",
    "\n",
    "Integer: int() function can be used \n",
    "Floating-point number: float() function can be used\n",
    "String: str() function can be used"
   ]
  },
  {
   "cell_type": "markdown",
   "id": "fb2bd1d4",
   "metadata": {},
   "source": []
  },
  {
   "cell_type": "markdown",
   "id": "cfd04525",
   "metadata": {},
   "source": [
    "# 10. Why does this expression cause an error? How can you fix it? 'I have eaten' + 99 + 'burritos.'\n",
    "\n",
    "In python we cannot concatenate strings and integer, to fix this we can either write the whole sentence as a full string i.e. 'I have eaten 99 burritos' otherwise we can convert 99 as string and then concatenate the three strings i.e. 'I have eaten'+ '99' + 'burritos'\n"
   ]
  },
  {
   "cell_type": "markdown",
   "id": "884815a2",
   "metadata": {},
   "source": []
  },
  {
   "cell_type": "code",
   "execution_count": null,
   "id": "1bd8173c",
   "metadata": {},
   "outputs": [],
   "source": []
  }
 ],
 "metadata": {
  "kernelspec": {
   "display_name": "Python 3 (ipykernel)",
   "language": "python",
   "name": "python3"
  },
  "language_info": {
   "codemirror_mode": {
    "name": "ipython",
    "version": 3
   },
   "file_extension": ".py",
   "mimetype": "text/x-python",
   "name": "python",
   "nbconvert_exporter": "python",
   "pygments_lexer": "ipython3",
   "version": "3.9.12"
  }
 },
 "nbformat": 4,
 "nbformat_minor": 5
}
