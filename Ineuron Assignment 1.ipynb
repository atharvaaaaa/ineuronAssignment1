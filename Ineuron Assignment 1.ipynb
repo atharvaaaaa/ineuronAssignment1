{
 "cells": [
  {
   "cell_type": "markdown",
   "id": "a955e16a",
   "metadata": {},
   "source": [
    "# 1. In the below elements which of them are values or an expression? eg:- values can be integer or string and expressions will be mathematical operators. \n",
    "*\n",
    "'hello'\n",
    "-87.8\n",
    "-\n",
    "/\n",
    "+\n",
    "6"
   ]
  },
  {
   "cell_type": "raw",
   "id": "067db419",
   "metadata": {},
   "source": [
    "Values: 'hello', -87.8, 6\n",
    "Expressions: *, -, /, +"
   ]
  },
  {
   "cell_type": "markdown",
   "id": "f7b59f3c",
   "metadata": {},
   "source": [
    "# 2. What is the difference between string and variable"
   ]
  },
  {
   "cell_type": "raw",
   "id": "370a205c",
   "metadata": {},
   "source": [
    "Variable is a symbol that is used to store a type of data in a program whereas String is one of the type of data which can be stored in a variable"
   ]
  },
  {
   "cell_type": "markdown",
   "id": "c80dd074",
   "metadata": {},
   "source": [
    "# 3. Describe three different data types."
   ]
  },
  {
   "cell_type": "raw",
   "id": "7efa2ff4",
   "metadata": {},
   "source": [
    "1) int : int is a datatype which is used to store integers\n",
    "2) str : str is a datatype which is used to store strings\n",
    "3) bool : bool is a datatype which is used to store boolean variables (boolean variables return either true or false)"
   ]
  },
  {
   "cell_type": "markdown",
   "id": "2f9b9d2c",
   "metadata": {},
   "source": [
    "# 4. What is an expression made up of? What do all expressions do?"
   ]
  },
  {
   "cell_type": "raw",
   "id": "0007f689",
   "metadata": {},
   "source": [
    "An expression is made up of operators and operands interpreted to produce some other value, Expressions combines values and operators and evaluates it down to a single value."
   ]
  },
  {
   "cell_type": "markdown",
   "id": "a702913e",
   "metadata": {},
   "source": [
    "# 5. This assignment statements, like spam = 10. What is the difference between an expression and a statement?"
   ]
  },
  {
   "cell_type": "raw",
   "id": "636ffde7",
   "metadata": {},
   "source": [
    "Expressions combines values and operators to return a value whereas statements doesn't return anything"
   ]
  },
  {
   "cell_type": "markdown",
   "id": "10e54486",
   "metadata": {},
   "source": [
    "# 6. After running the following code, what does the variable bacon contain? \n",
    "bacon = 22\n",
    "bacon + 1"
   ]
  },
  {
   "cell_type": "raw",
   "id": "45c2582d",
   "metadata": {},
   "source": [
    "Doing Arithmetic expressions doesn't change it's actual value, so the value for bacon would be same that is 22"
   ]
  },
  {
   "cell_type": "markdown",
   "id": "f7daffb3",
   "metadata": {},
   "source": [
    "# 7. What should the values of the following two terms be?\n",
    "'spam' + 'spamspam'\n",
    ",'spam' * 3\n"
   ]
  },
  {
   "cell_type": "raw",
   "id": "a02f1bd0",
   "metadata": {},
   "source": [
    "'spam' + 'spamspam' would concatenate two strings and become spamspamspam\n",
    "whereas\n",
    "'spam'*3 \n",
    "will concatenate the string with itself 3 times and become spamspamspam\n"
   ]
  },
  {
   "cell_type": "markdown",
   "id": "42a92c09",
   "metadata": {},
   "source": [
    "# 8. Why is eggs a valid variable name while 100 is invalid?"
   ]
  },
  {
   "cell_type": "raw",
   "id": "d5ff84f5",
   "metadata": {},
   "source": [
    "In python a variable name should not start with a number, should not have whitespace and must start with a letter or underscore character, following this eggs can be a valid variable whereas 100 is an invalid variable"
   ]
  },
  {
   "cell_type": "markdown",
   "id": "44f307fc",
   "metadata": {},
   "source": [
    "# 9. What three functions can be used to get the integer, floating-point number, or string version of a value?"
   ]
  },
  {
   "cell_type": "raw",
   "id": "3ac2adb7",
   "metadata": {},
   "source": [
    "Integer: int() function can be used \n",
    "Floating-point number: float() function can be used\n",
    "String: str() function can be used"
   ]
  },
  {
   "cell_type": "markdown",
   "id": "5ca82e75",
   "metadata": {},
   "source": [
    "# 10. Why does this expression cause an error? How can you fix it? 'I have eaten' + 99 + 'burritos.'\n"
   ]
  },
  {
   "cell_type": "raw",
   "id": "904f9f8c",
   "metadata": {},
   "source": [
    "In python we cannot concatenate strings and integer, to fix this we can either write the whole sentence as a full string i.e. 'I have eaten 99 burritos' otherwise we can convert 99 as string and then concatenate the three strings i.e. 'I have eaten'+ '99' + 'burritos'\n"
   ]
  },
  {
   "cell_type": "code",
   "execution_count": null,
   "id": "be3f2e26",
   "metadata": {},
   "outputs": [],
   "source": []
  }
 ],
 "metadata": {
  "kernelspec": {
   "display_name": "Python 3 (ipykernel)",
   "language": "python",
   "name": "python3"
  },
  "language_info": {
   "codemirror_mode": {
    "name": "ipython",
    "version": 3
   },
   "file_extension": ".py",
   "mimetype": "text/x-python",
   "name": "python",
   "nbconvert_exporter": "python",
   "pygments_lexer": "ipython3",
   "version": "3.9.12"
  }
 },
 "nbformat": 4,
 "nbformat_minor": 5
}
